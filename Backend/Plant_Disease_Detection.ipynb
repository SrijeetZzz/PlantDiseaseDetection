{
  "nbformat": 4,
  "nbformat_minor": 0,
  "metadata": {
    "colab": {
      "provenance": [],
      "gpuType": "T4"
    },
    "kernelspec": {
      "name": "python3",
      "display_name": "Python 3"
    },
    "language_info": {
      "name": "python"
    },
    "accelerator": "GPU"
  },
  "cells": [
    {
      "cell_type": "code",
      "source": [
        "from google.colab import drive\n",
        "drive.mount('/content/drive')"
      ],
      "metadata": {
        "id": "9baMh5Zl73EP",
        "colab": {
          "base_uri": "https://localhost:8080/"
        },
        "outputId": "8e1bc727-3c43-49ee-9346-bf4c78088f30"
      },
      "execution_count": null,
      "outputs": [
        {
          "output_type": "stream",
          "name": "stdout",
          "text": [
            "Drive already mounted at /content/drive; to attempt to forcibly remount, call drive.mount(\"/content/drive\", force_remount=True).\n"
          ]
        }
      ]
    },
    {
      "cell_type": "code",
      "execution_count": null,
      "metadata": {
        "id": "xjdqqa2NL-7-"
      },
      "outputs": [],
      "source": [
        "import numpy as np\n",
        "import pickle\n",
        "import cv2\n",
        "from os import listdir\n",
        "from sklearn.preprocessing import LabelBinarizer\n",
        "from keras.models import Sequential\n",
        "from tensorflow.keras.layers import BatchNormalization\n",
        "from tensorflow.keras.layers import Conv2D, MaxPooling2D, Activation, Flatten, Dropout, Dense\n",
        "from keras import backend as K\n",
        "from keras.preprocessing.image import ImageDataGenerator\n",
        "from keras.optimizers import Adam\n",
        "from keras.preprocessing import image\n",
        "from keras.preprocessing.image import img_to_array\n",
        "from sklearn.preprocessing import MultiLabelBinarizer\n",
        "from sklearn.model_selection import train_test_split\n",
        "import matplotlib.pyplot as plt"
      ]
    },
    {
      "cell_type": "code",
      "execution_count": null,
      "metadata": {
        "id": "gqMADImtVSL5"
      },
      "outputs": [],
      "source": [
        "EPOCHS = 25\n",
        "INIT_LR = 1e-3\n",
        "BS = 32\n",
        "default_image_size = tuple((256, 256))\n",
        "image_size = 0\n",
        "directory_root = '/content/drive/MyDrive/ProjectDataSet'\n",
        "width=256\n",
        "height=256\n",
        "depth=3"
      ]
    },
    {
      "cell_type": "code",
      "execution_count": null,
      "metadata": {
        "id": "0DxzCKJuVuj1"
      },
      "outputs": [],
      "source": [
        "def convert_image_to_array(image_dir):\n",
        "    try:\n",
        "        image = cv2.imread(image_dir)\n",
        "        if image is not None :\n",
        "            image = cv2.resize(image, default_image_size)\n",
        "            return img_to_array(image)\n",
        "        else :\n",
        "            return np.array([])\n",
        "    except Exception as e:\n",
        "        print(f\"Error : {e}\")\n",
        "        return None"
      ]
    },
    {
      "cell_type": "code",
      "execution_count": null,
      "metadata": {
        "colab": {
          "base_uri": "https://localhost:8080/"
        },
        "id": "Tdk9vd1eg8YQ",
        "outputId": "9b2f9de1-ec47-4885-935a-18e97ecd2236"
      },
      "outputs": [
        {
          "output_type": "stream",
          "name": "stdout",
          "text": [
            "cCurrent folder  /content/drive/MyDrive/ProjectDataSet/Tomato_Leaf_Mold\n",
            "cCurrent folder  /content/drive/MyDrive/ProjectDataSet/Tomato_Spider_mites_Two_spotted_spider_mite\n",
            "cCurrent folder  /content/drive/MyDrive/ProjectDataSet/Tomato_Bacterial_spot\n",
            "cCurrent folder  /content/drive/MyDrive/ProjectDataSet/Tomato_YellowLeaf\n",
            "cCurrent folder  /content/drive/MyDrive/ProjectDataSet/Tomato_Early_blight\n",
            "cCurrent folder  /content/drive/MyDrive/ProjectDataSet/Tomato_Late_blight\n",
            "cCurrent folder  /content/drive/MyDrive/ProjectDataSet/Tomato_MosiacVirus\n",
            "cCurrent folder  /content/drive/MyDrive/ProjectDataSet/Tomato_TargetSpot\n",
            "cCurrent folder  /content/drive/MyDrive/ProjectDataSet/Tomato_Healthy\n",
            "cCurrent folder  /content/drive/MyDrive/ProjectDataSet/Tomato_Septoria_leaf_spot\n",
            "cCurrent folder  /content/drive/MyDrive/ProjectDataSet/Potato___Early_blight\n",
            "cCurrent folder  /content/drive/MyDrive/ProjectDataSet/Pepper__bell___Bacterial_spot\n",
            "cCurrent folder  /content/drive/MyDrive/ProjectDataSet/Potato___healthy\n",
            "cCurrent folder  /content/drive/MyDrive/ProjectDataSet/Potato___Late_blight\n",
            "cCurrent folder  /content/drive/MyDrive/ProjectDataSet/Pepper__bell___healthy\n",
            "[INFO] Image loading completed\n",
            "Total Images: 1067\n",
            "Total Labels: 1067\n",
            "Label binarization completed.\n"
          ]
        }
      ],
      "source": [
        "import os\n",
        "\n",
        "image_list, label_list = [], []\n",
        "\n",
        "try:\n",
        "\n",
        "    root_dir = os.listdir(directory_root)\n",
        "    if \".DS_Store\" in root_dir:\n",
        "        root_dir.remove(\".DS_Store\")\n",
        "\n",
        "    for plant_folder in root_dir:\n",
        "        plant_path = os.path.join(directory_root, plant_folder)\n",
        "        print(\"cCurrent folder \",plant_path)\n",
        "        if os.path.isdir(plant_path):\n",
        "            disease_folders = os.listdir(plant_path)\n",
        "            if \".DS_Store\" in disease_folders:\n",
        "                disease_folders.remove(\".DS_Store\")\n",
        "\n",
        "            for disease_folder in disease_folders:\n",
        "\n",
        "                disease_path = os.path.join(plant_path, disease_folder)\n",
        "\n",
        "\n",
        "                # image_path = os.path.join(disease_path, image)\n",
        "                # print(image_path)\n",
        "                if disease_path.lower().endswith(('.jpg', '.jpeg', '.png', '.bmp')):\n",
        "                    image_list.append(convert_image_to_array(disease_path))\n",
        "                    label_list.append(plant_folder)\n",
        "\n",
        "\n",
        "    print(\"[INFO] Image loading completed\")\n",
        "\n",
        "    # Now, we should have both image_list and label_list populated\n",
        "    print(\"Total Images:\", len(image_list))\n",
        "    print(\"Total Labels:\", len(label_list))\n",
        "\n",
        "    # Proceed to label binarization if label_list is not empty\n",
        "    if label_list:\n",
        "        label_binarizer = LabelBinarizer()\n",
        "        image_labels = label_binarizer.fit_transform(label_list)\n",
        "        pickle.dump(label_binarizer, open('label_transform.pkl', 'wb'))\n",
        "        n_classes = len(label_binarizer.classes_)\n",
        "        print(\"Label binarization completed.\")\n",
        "    else:\n",
        "        print(\"Error: label_list is empty. Make sure labels are properly loaded.\")\n",
        "\n",
        "except Exception as e:\n",
        "    print(f\"Error : {e}\")\n"
      ]
    },
    {
      "cell_type": "code",
      "execution_count": null,
      "metadata": {
        "colab": {
          "base_uri": "https://localhost:8080/"
        },
        "id": "ABeOr4FjhtEm",
        "outputId": "b5b31a55-b20c-49ed-d91b-179f4576da5e"
      },
      "outputs": [
        {
          "output_type": "stream",
          "name": "stdout",
          "text": [
            "Label binarization completed.\n"
          ]
        }
      ],
      "source": [
        "from sklearn.preprocessing import LabelBinarizer\n",
        "import pickle\n",
        "\n",
        "# Assuming label_list is properly populated\n",
        "\n",
        "if label_list:  # Check if label_list is not empty\n",
        "    try:\n",
        "        label_binarizer = LabelBinarizer()\n",
        "        image_labels = label_binarizer.fit_transform(label_list)\n",
        "        pickle.dump(label_binarizer, open('label_transform.pkl', 'wb'))\n",
        "        n_classes = len(label_binarizer.classes_)\n",
        "        print(\"Label binarization completed.\")\n",
        "    except Exception as e:\n",
        "        print(f\"Error during label binarization: {e}\")\n",
        "else:\n",
        "    print(\"Error: label_list is empty. Make sure labels are properly loaded.\")\n"
      ]
    },
    {
      "cell_type": "code",
      "source": [
        "np_image_list = np.array(image_list, dtype=np.float16) / 225.0"
      ],
      "metadata": {
        "id": "8-B4iD58BXdt"
      },
      "execution_count": null,
      "outputs": []
    },
    {
      "cell_type": "code",
      "source": [
        "x_train, x_test, y_train, y_test = train_test_split(np_image_list, image_labels, test_size=0.2, random_state = 42)\n"
      ],
      "metadata": {
        "id": "TkSxjzUkBciq"
      },
      "execution_count": null,
      "outputs": []
    },
    {
      "cell_type": "code",
      "source": [
        "aug = ImageDataGenerator(\n",
        "    rotation_range=25, width_shift_range=0.1,\n",
        "    height_shift_range=0.1, shear_range=0.2,\n",
        "    zoom_range=0.2,horizontal_flip=True,\n",
        "    fill_mode=\"nearest\")\n"
      ],
      "metadata": {
        "id": "T4IMYFG5BlMp"
      },
      "execution_count": null,
      "outputs": []
    },
    {
      "cell_type": "code",
      "source": [
        "model = Sequential()\n",
        "inputShape = (height, width, depth)\n",
        "chanDim = -1\n",
        "if K.image_data_format() == \"channels_first\":\n",
        "    inputShape = (depth, height, width)\n",
        "    chanDim = 1\n",
        "model.add(Conv2D(32, (3, 3), padding=\"same\",input_shape=inputShape))\n",
        "model.add(Activation(\"relu\"))\n",
        "model.add(BatchNormalization(axis=chanDim))\n",
        "model.add(MaxPooling2D(pool_size=(3, 3)))\n",
        "model.add(Dropout(0.25))\n",
        "model.add(Conv2D(64, (3, 3), padding=\"same\"))\n",
        "model.add(Activation(\"relu\"))\n",
        "model.add(BatchNormalization(axis=chanDim))\n",
        "model.add(Conv2D(64, (3, 3), padding=\"same\"))\n",
        "model.add(Activation(\"relu\"))\n",
        "model.add(BatchNormalization(axis=chanDim))\n",
        "model.add(MaxPooling2D(pool_size=(2, 2)))\n",
        "model.add(Dropout(0.25))\n",
        "model.add(Conv2D(128, (3, 3), padding=\"same\"))\n",
        "model.add(Activation(\"relu\"))\n",
        "model.add(BatchNormalization(axis=chanDim))\n",
        "model.add(Conv2D(128, (3, 3), padding=\"same\"))\n",
        "model.add(Activation(\"relu\"))\n",
        "model.add(BatchNormalization(axis=chanDim))\n",
        "model.add(MaxPooling2D(pool_size=(2, 2)))\n",
        "model.add(Dropout(0.25))\n",
        "model.add(Flatten())\n",
        "model.add(Dense(1024))\n",
        "model.add(Activation(\"relu\"))\n",
        "model.add(BatchNormalization())\n",
        "model.add(Dropout(0.5))\n",
        "model.add(Dense(n_classes))\n",
        "model.add(Activation(\"softmax\"))"
      ],
      "metadata": {
        "id": "U78oSJ4MBo3Y"
      },
      "execution_count": null,
      "outputs": []
    },
    {
      "cell_type": "code",
      "source": [
        "model.summary()"
      ],
      "metadata": {
        "id": "h4ovUIJXiAXY",
        "colab": {
          "base_uri": "https://localhost:8080/"
        },
        "outputId": "4959aecf-5d33-4953-f681-9123c427d01c"
      },
      "execution_count": null,
      "outputs": [
        {
          "output_type": "stream",
          "name": "stdout",
          "text": [
            "Model: \"sequential\"\n",
            "_________________________________________________________________\n",
            " Layer (type)                Output Shape              Param #   \n",
            "=================================================================\n",
            " conv2d (Conv2D)             (None, 256, 256, 32)      896       \n",
            "                                                                 \n",
            " activation (Activation)     (None, 256, 256, 32)      0         \n",
            "                                                                 \n",
            " batch_normalization (Batch  (None, 256, 256, 32)      128       \n",
            " Normalization)                                                  \n",
            "                                                                 \n",
            " max_pooling2d (MaxPooling2  (None, 85, 85, 32)        0         \n",
            " D)                                                              \n",
            "                                                                 \n",
            " dropout (Dropout)           (None, 85, 85, 32)        0         \n",
            "                                                                 \n",
            " conv2d_1 (Conv2D)           (None, 85, 85, 64)        18496     \n",
            "                                                                 \n",
            " activation_1 (Activation)   (None, 85, 85, 64)        0         \n",
            "                                                                 \n",
            " batch_normalization_1 (Bat  (None, 85, 85, 64)        256       \n",
            " chNormalization)                                                \n",
            "                                                                 \n",
            " conv2d_2 (Conv2D)           (None, 85, 85, 64)        36928     \n",
            "                                                                 \n",
            " activation_2 (Activation)   (None, 85, 85, 64)        0         \n",
            "                                                                 \n",
            " batch_normalization_2 (Bat  (None, 85, 85, 64)        256       \n",
            " chNormalization)                                                \n",
            "                                                                 \n",
            " max_pooling2d_1 (MaxPoolin  (None, 42, 42, 64)        0         \n",
            " g2D)                                                            \n",
            "                                                                 \n",
            " dropout_1 (Dropout)         (None, 42, 42, 64)        0         \n",
            "                                                                 \n",
            " conv2d_3 (Conv2D)           (None, 42, 42, 128)       73856     \n",
            "                                                                 \n",
            " activation_3 (Activation)   (None, 42, 42, 128)       0         \n",
            "                                                                 \n",
            " batch_normalization_3 (Bat  (None, 42, 42, 128)       512       \n",
            " chNormalization)                                                \n",
            "                                                                 \n",
            " conv2d_4 (Conv2D)           (None, 42, 42, 128)       147584    \n",
            "                                                                 \n",
            " activation_4 (Activation)   (None, 42, 42, 128)       0         \n",
            "                                                                 \n",
            " batch_normalization_4 (Bat  (None, 42, 42, 128)       512       \n",
            " chNormalization)                                                \n",
            "                                                                 \n",
            " max_pooling2d_2 (MaxPoolin  (None, 21, 21, 128)       0         \n",
            " g2D)                                                            \n",
            "                                                                 \n",
            " dropout_2 (Dropout)         (None, 21, 21, 128)       0         \n",
            "                                                                 \n",
            " flatten (Flatten)           (None, 56448)             0         \n",
            "                                                                 \n",
            " dense (Dense)               (None, 1024)              57803776  \n",
            "                                                                 \n",
            " activation_5 (Activation)   (None, 1024)              0         \n",
            "                                                                 \n",
            " batch_normalization_5 (Bat  (None, 1024)              4096      \n",
            " chNormalization)                                                \n",
            "                                                                 \n",
            " dropout_3 (Dropout)         (None, 1024)              0         \n",
            "                                                                 \n",
            " dense_1 (Dense)             (None, 15)                15375     \n",
            "                                                                 \n",
            " activation_6 (Activation)   (None, 15)                0         \n",
            "                                                                 \n",
            "=================================================================\n",
            "Total params: 58102671 (221.64 MB)\n",
            "Trainable params: 58099791 (221.63 MB)\n",
            "Non-trainable params: 2880 (11.25 KB)\n",
            "_________________________________________________________________\n"
          ]
        }
      ]
    },
    {
      "cell_type": "code",
      "source": [
        "from tensorflow.keras.optimizers import Adam\n",
        "from tensorflow.keras.callbacks import LearningRateScheduler\n",
        "\n",
        "def lr_scheduler(epoch, lr):\n",
        "    return lr * 0.9  # Adjust the decay factor as needed\n",
        "\n",
        "opt = Adam(learning_rate=INIT_LR)\n",
        "model.compile(loss=\"binary_crossentropy\", optimizer=opt, metrics=[\"accuracy\"])\n",
        "\n",
        "lr_scheduler_callback = LearningRateScheduler(lr_scheduler)\n",
        "\n",
        "history = model.fit(\n",
        "    aug.flow(x_train, y_train, batch_size=BS),\n",
        "    validation_data=(x_test, y_test),\n",
        "    steps_per_epoch=len(x_train) // BS,\n",
        "    epochs=EPOCHS, verbose=1,\n",
        "    callbacks=[lr_scheduler_callback]\n",
        ")\n",
        "\n",
        "print(\"[INFO] training network...\")\n"
      ],
      "metadata": {
        "id": "zNZprmTbiEda",
        "colab": {
          "base_uri": "https://localhost:8080/"
        },
        "outputId": "d93a2733-5086-48bf-c167-5c2c4e72c8cb"
      },
      "execution_count": null,
      "outputs": [
        {
          "output_type": "stream",
          "name": "stdout",
          "text": [
            "Epoch 1/25\n",
            "26/26 [==============================] - 28s 618ms/step - loss: 0.7933 - accuracy: 0.2582 - val_loss: 0.5862 - val_accuracy: 0.0748 - lr: 9.0000e-04\n",
            "Epoch 2/25\n",
            "26/26 [==============================] - 14s 554ms/step - loss: 0.5905 - accuracy: 0.3496 - val_loss: 1.0053 - val_accuracy: 0.1215 - lr: 8.1000e-04\n",
            "Epoch 3/25\n",
            "26/26 [==============================] - 14s 547ms/step - loss: 0.4182 - accuracy: 0.4300 - val_loss: 0.9978 - val_accuracy: 0.1121 - lr: 7.2900e-04\n",
            "Epoch 4/25\n",
            "26/26 [==============================] - 14s 533ms/step - loss: 0.2738 - accuracy: 0.4738 - val_loss: 1.2304 - val_accuracy: 0.1121 - lr: 6.5610e-04\n",
            "Epoch 5/25\n",
            "26/26 [==============================] - 14s 541ms/step - loss: 0.1954 - accuracy: 0.5786 - val_loss: 0.6526 - val_accuracy: 0.1215 - lr: 5.9049e-04\n",
            "Epoch 6/25\n",
            "26/26 [==============================] - 14s 532ms/step - loss: 0.1540 - accuracy: 0.6638 - val_loss: 0.5429 - val_accuracy: 0.0421 - lr: 5.3144e-04\n",
            "Epoch 7/25\n",
            "26/26 [==============================] - 14s 552ms/step - loss: 0.1388 - accuracy: 0.6659 - val_loss: 0.5381 - val_accuracy: 0.0467 - lr: 4.7830e-04\n",
            "Epoch 8/25\n",
            "26/26 [==============================] - 14s 542ms/step - loss: 0.1232 - accuracy: 0.7065 - val_loss: 0.5307 - val_accuracy: 0.0374 - lr: 4.3047e-04\n",
            "Epoch 9/25\n",
            "26/26 [==============================] - 14s 539ms/step - loss: 0.1153 - accuracy: 0.7247 - val_loss: 0.5966 - val_accuracy: 0.0467 - lr: 3.8742e-04\n",
            "Epoch 10/25\n",
            "26/26 [==============================] - 14s 532ms/step - loss: 0.1023 - accuracy: 0.7661 - val_loss: 0.5305 - val_accuracy: 0.0421 - lr: 3.4868e-04\n",
            "Epoch 11/25\n",
            "26/26 [==============================] - 14s 548ms/step - loss: 0.0987 - accuracy: 0.7868 - val_loss: 0.5522 - val_accuracy: 0.0421 - lr: 3.1381e-04\n",
            "Epoch 12/25\n",
            "26/26 [==============================] - 14s 537ms/step - loss: 0.0919 - accuracy: 0.7881 - val_loss: 0.4193 - val_accuracy: 0.0421 - lr: 2.8243e-04\n",
            "Epoch 13/25\n",
            "26/26 [==============================] - 14s 548ms/step - loss: 0.0894 - accuracy: 0.7990 - val_loss: 0.5127 - val_accuracy: 0.0421 - lr: 2.5419e-04\n",
            "Epoch 14/25\n",
            "26/26 [==============================] - 14s 534ms/step - loss: 0.0832 - accuracy: 0.8112 - val_loss: 0.4786 - val_accuracy: 0.0467 - lr: 2.2877e-04\n",
            "Epoch 15/25\n",
            "26/26 [==============================] - 14s 543ms/step - loss: 0.0788 - accuracy: 0.8283 - val_loss: 0.4353 - val_accuracy: 0.0561 - lr: 2.0589e-04\n",
            "Epoch 16/25\n",
            "26/26 [==============================] - 14s 545ms/step - loss: 0.0762 - accuracy: 0.8368 - val_loss: 0.4371 - val_accuracy: 0.0888 - lr: 1.8530e-04\n",
            "Epoch 17/25\n",
            "26/26 [==============================] - 14s 536ms/step - loss: 0.0716 - accuracy: 0.8563 - val_loss: 0.4448 - val_accuracy: 0.0935 - lr: 1.6677e-04\n",
            "Epoch 18/25\n",
            "26/26 [==============================] - 14s 537ms/step - loss: 0.0658 - accuracy: 0.8782 - val_loss: 0.3799 - val_accuracy: 0.1262 - lr: 1.5009e-04\n",
            "Epoch 19/25\n",
            "26/26 [==============================] - 14s 541ms/step - loss: 0.0654 - accuracy: 0.8630 - val_loss: 0.3961 - val_accuracy: 0.1636 - lr: 1.3509e-04\n",
            "Epoch 20/25\n",
            "26/26 [==============================] - 14s 540ms/step - loss: 0.0655 - accuracy: 0.8733 - val_loss: 0.3460 - val_accuracy: 0.2103 - lr: 1.2158e-04\n",
            "Epoch 21/25\n",
            "26/26 [==============================] - 14s 540ms/step - loss: 0.0632 - accuracy: 0.8867 - val_loss: 0.3432 - val_accuracy: 0.2477 - lr: 1.0942e-04\n",
            "Epoch 22/25\n",
            "26/26 [==============================] - 14s 512ms/step - loss: 0.0617 - accuracy: 0.8770 - val_loss: 0.2926 - val_accuracy: 0.3037 - lr: 9.8477e-05\n",
            "Epoch 23/25\n",
            "26/26 [==============================] - 14s 526ms/step - loss: 0.0631 - accuracy: 0.8599 - val_loss: 0.2315 - val_accuracy: 0.4626 - lr: 8.8629e-05\n",
            "Epoch 24/25\n",
            "26/26 [==============================] - 14s 523ms/step - loss: 0.0586 - accuracy: 0.8782 - val_loss: 0.1989 - val_accuracy: 0.5000 - lr: 7.9766e-05\n",
            "Epoch 25/25\n",
            "26/26 [==============================] - 14s 541ms/step - loss: 0.0581 - accuracy: 0.8989 - val_loss: 0.1816 - val_accuracy: 0.5701 - lr: 7.1790e-05\n",
            "[INFO] training network...\n"
          ]
        }
      ]
    },
    {
      "cell_type": "code",
      "source": [
        "acc = history.history['accuracy']  # 'accuracy' instead of 'acc'\n",
        "val_acc = history.history['val_accuracy']  # 'val_accuracy' instead of 'val_acc'\n",
        "loss = history.history['loss']\n",
        "val_loss = history.history['val_loss']\n",
        "epochs = range(1, len(acc) + 1)\n",
        "\n",
        "#Train and validation accuracy\n",
        "plt.plot(epochs, acc, 'b', label='Training accuracy')  # 'Training accuracy' instead of 'accurarcy'\n",
        "plt.plot(epochs, val_acc, 'r', label='Validation accuracy')  # 'Validation accuracy' instead of 'accurarcy'\n",
        "plt.title('Training and Validation accuracy')\n",
        "plt.legend()\n",
        "\n",
        "plt.figure()\n",
        "#Train and validation loss\n",
        "plt.plot(epochs, loss, 'b', label='Training loss')\n",
        "plt.plot(epochs, val_loss, 'r', label='Validation loss')\n",
        "plt.title('Training and Validation loss')\n",
        "plt.legend()\n",
        "plt.show()\n"
      ],
      "metadata": {
        "id": "WHHeBe3TWVjz",
        "colab": {
          "base_uri": "https://localhost:8080/",
          "height": 887
        },
        "outputId": "d4e8518d-9806-4303-912a-b350b2df1bf7"
      },
      "execution_count": null,
      "outputs": [
        {
          "output_type": "display_data",
          "data": {
            "text/plain": [
              "<Figure size 640x480 with 1 Axes>"
            ],
            "image/png": "[encoded data removed]"
          },
          "metadata": {}
        },
        {
          "output_type": "display_data",
          "data": {
            "text/plain": [
              "<Figure size 640x480 with 1 Axes>"
            ],
            "image/png": "[encoded data removed]"
          },
          "metadata": {}
        }
      ]
    },
    {
      "cell_type": "code",
      "source": [
        "\n",
        "print(\"[INFO] Calculating model accuracy\")\n",
        "scores = model.evaluate(x_test, y_test)\n",
        "print(f\"Test Accuracy: {scores[1]*100}\")\n"
      ],
      "metadata": {
        "id": "iNNPcZD5CMYo",
        "colab": {
          "base_uri": "https://localhost:8080/"
        },
        "outputId": "ef7bbb27-3462-458d-bc4f-35ab6378e1fe"
      },
      "execution_count": null,
      "outputs": [
        {
          "output_type": "stream",
          "name": "stdout",
          "text": [
            "[INFO] Calculating model accuracy\n",
            "7/7 [==============================] - 0s 30ms/step - loss: 0.1816 - accuracy: 0.5701\n",
            "Test Accuracy: 57.009345293045044\n"
          ]
        }
      ]
    },
    {
      "cell_type": "code",
      "source": [
        "import tensorflow as tf\n",
        "\n",
        "# Assuming you have a model named 'model'\n",
        "\n",
        "# Save the model\n",
        "tf.keras.models.save_model(model, 'plant.hdf5')\n"
      ],
      "metadata": {
        "id": "TWY5-Wf7cHjM",
        "colab": {
          "base_uri": "https://localhost:8080/"
        },
        "outputId": "8f4a5c49-8d17-42a0-e2d2-b2f762e7f189"
      },
      "execution_count": null,
      "outputs": [
        {
          "output_type": "stream",
          "name": "stderr",
          "text": [
            "<ipython-input-16-c74541ac5319>:6: UserWarning: You are saving your model as an HDF5 file via `model.save()`. This file format is considered legacy. We recommend using instead the native Keras format, e.g. `model.save('my_model.keras')`.\n",
            "  tf.keras.models.save_model(model, 'plant.hdf5')\n"
          ]
        }
      ]
    }
  ]
}